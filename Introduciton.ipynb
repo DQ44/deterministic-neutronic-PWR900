# Notebook: Simulation d'un REP 900 MW avec Méthodes Déterministes

## Introduction

Ce notebook a pour objectif de présenter une démarche complète pour simuler le comportement neutronique d'un réacteur REP 900 MW français. Il s'adresse à ceux qui souhaitent comprendre les bases des méthodes déterministes appliquées à la neutronique et en explorer une implémentation simple. 

### Qu'est-ce qu'une méthode déterministe ?

Les **méthodes déterministes** consistent à résoudre de manière explicite les équations décrivant un phénomène physique, comme l'équation du transport neutronique ou son approximation par l'équation de diffusion. Contrairement aux méthodes stochastiques (comme Monte Carlo), qui simulent des particules individuelles, les méthodes déterministes calculent directement des quantités moyennes (flux neutronique, taux de capture, etc.) sur un domaine spatial et énergétique.

#### Approche :
1. **Discrétisation spatiale :** Découper le domaine spatial en mailles ou nœuds.
2. **Discrétisation énergétique :** Diviser le spectre neutronique en groupes d'énergie (ex. : 2 groupes : thermique et rapide).
3. **Discrétisation angulaire :** Approximer les directions de propagation des neutrons (dans le cas d'un transport).
4. **Résolution des équations linéaires :** Utiliser un solveur pour déterminer les valeurs recherchées dans chaque maille ou nœud.


### Contexte des REP 900 MW

Un réacteur REP 900 MW est un réacteur nucléaire à eau pressurisée largement utilisé en France. Il se compose de :
- **Assemblages de combustible :** où a lieu la fission nucléaire.
- **Modérateur (eau) :** pour ralentir les neutrons.
- **Enveloppe en acier :** contenant le cœur du réacteur.

Le modèle présenté ici simplifie les processus physiques mais conserve les principales caractéristiques nécessaires pour comprendre les phénomènes neutroniques.

---

## Simulation en 1D : Modèle de Diffusion

### L'équation de diffusion neutronique

L'équation de diffusion est une approximation de l'équation du transport neutronique, utilisée lorsque les neutrons sont isotropes (distribution uniforme en angle). Elle s'écrit :

\[
-D \nabla^2 \phi(r) + \Sigma_a \phi(r) = S(r)
\]

- **\(D\)** : Coefficient de diffusion (lié aux collisions des neutrons).
- **\(\phi(r)\)** : Flux neutronique (nombre de neutrons par unité de surface).
- **\(\Sigma_a\)** : Section efficace d'absorption.
- **\(S(r)\)** : Source de neutrons.

Nous allons résoudre cette équation en 1D (flux en fonction de la position) avec un solveur matriciel.

### Code pour le solveur en diffusion 1D
```python
import numpy as np
import matplotlib.pyplot as plt

def diffusion_1d(length, dx, D, Sigma_a, source):
    """
    Solveur 1D pour l'équation de diffusion neutronique.
    
    Parameters:
    - length : longueur du domaine (cm)
    - dx : pas spatial (cm)
    - D : coefficient de diffusion
    - Sigma_a : section efficace d'absorption
    - source : source neutronique (neutrons/cm^3/s)
    
    Returns:
    - x : positions dans le domaine (cm)
    - flux : flux neutronique calculé
    """
    n = int(length / dx) + 1  # Nombre de points
    A = np.zeros((n, n))      # Matrice des coefficients
    b = np.zeros(n)           # Vecteur des sources

    # Construction de la matrice et du vecteur source
    for i in range(1, n-1):
        A[i, i-1] = D / dx**2
        A[i, i] = -2 * D / dx**2 - Sigma_a
        A[i, i+1] = D / dx**2
        b[i] = source

    # Conditions aux limites : flux nul aux extrémités
    A[0, 0] = A[n-1, n-1] = 1
    b[0] = b[n-1] = 0

    # Résolution du système linéaire
    flux = np.linalg.solve(A, b)
    x = np.linspace(0, length, n)
    return x, flux

# Paramètres du problème
length = 100  # Longueur du domaine (cm)
dx = 1        # Pas spatial (cm)
D = 1.0       # Coefficient de diffusion
Sigma_a = 0.1 # Section efficace d'absorption
source = 1.0  # Source neutronique

# Résolution
x, flux = diffusion_1d(length, dx, D, Sigma_a, source)

# Visualisation
plt.plot(x, flux, label='Flux neutronique')
plt.xlabel('Position (cm)')
plt.ylabel('Flux neutronique')
plt.title('Résolution de l\'équation de diffusion en 1D')
plt.legend()
plt.grid()
plt.show()
```

---

## Commentaire sur les Résultats

Le graphique ci-dessus montre la distribution spatiale du flux neutronique dans un domaine 1D. Le flux est maximal au centre (là où la source est concentrée) et décroît vers les bords (en raison des conditions aux limites).

Ce modèle simple peut être étendu à des simulations en 2D ou 3D, ou complété par des phénomènes couplés comme la rétroaction thermique.

---

### Prochaines Étapes
1. Étendre le modèle à un cœur 2D avec des assemblages de combustible.
2. Intégrer un solveur thermique pour simuler les rétroactions.
3. Valider avec des benchmarks comme C5G7.

N'hésitez pas à poser vos questions ou à explorer les différents paramètres pour approfondir votre compréhension !
